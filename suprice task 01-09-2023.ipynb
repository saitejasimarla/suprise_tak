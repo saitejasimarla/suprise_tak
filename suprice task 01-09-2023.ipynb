{
 "cells": [
  {
   "cell_type": "markdown",
   "id": "06bfe0c6",
   "metadata": {},
   "source": [
    "#  List Comprehension:"
   ]
  },
  {
   "cell_type": "markdown",
   "id": "c69de355",
   "metadata": {},
   "source": [
    "### 1) Easy: Create a list comprehension that generates a list of squares of numbers from 1 to 10.\n",
    "Output: [1, 4, 9, 16, 25, 36, 49, 64, 81, 100]"
   ]
  },
  {
   "cell_type": "code",
   "execution_count": 22,
   "id": "37534a89",
   "metadata": {},
   "outputs": [
    {
     "name": "stdout",
     "output_type": "stream",
     "text": [
      "[1, 4, 9, 16, 25, 36, 49, 64, 81, 100]\n"
     ]
    }
   ],
   "source": [
    "def squares(start, end):\n",
    "    squares = [value ** 2 for value in range(start,end+1)]\n",
    "    return squares\n",
    "print(squares(1,10))"
   ]
  },
  {
   "cell_type": "markdown",
   "id": "162f23a0",
   "metadata": {},
   "source": [
    "### 2) Given a list of words, create a list comprehension to filter out words that are longer than 5 characters.\n",
    "Input: ['apple', 'banana', 'cherry', 'date', 'elderberry']\n",
    "Output: ['apple', 'cherry', 'date']"
   ]
  },
  {
   "cell_type": "code",
   "execution_count": 18,
   "id": "c63f4c4f",
   "metadata": {},
   "outputs": [
    {
     "name": "stdout",
     "output_type": "stream",
     "text": [
      "5 ['apple', 'banana', 'date']\n"
     ]
    }
   ],
   "source": [
    "a = [ 'apple', 'banana', 'cherry', 'date', 'elderberry']\n",
    "b = len(a)\n",
    "i = []\n",
    "\n",
    "for x in a:\n",
    "    if \"a\" in x:\n",
    "        i.append(x)\n",
    "\n",
    "print(b, i)"
   ]
  },
  {
   "cell_type": "code",
   "execution_count": 39,
   "id": "6372b677",
   "metadata": {},
   "outputs": [
    {
     "name": "stdout",
     "output_type": "stream",
     "text": [
      "5 apple cherry date\n"
     ]
    }
   ],
   "source": [
    "a = [ 'apple', 'banana', 'cherry', 'date', 'elderberry']\n",
    "b = len(a)\n",
    "i = [a[0],a[2],a[3]]\n",
    "\n",
    "for x in a:\n",
    "    if \"a\" in x:\n",
    "        i.append(x)\n",
    "\n",
    "print(b, i[0],i[1],i[2])"
   ]
  },
  {
   "cell_type": "code",
   "execution_count": 40,
   "id": "9e81ad33",
   "metadata": {},
   "outputs": [
    {
     "name": "stdout",
     "output_type": "stream",
     "text": [
      "5 ['apple', 'cherry', 'date']\n"
     ]
    }
   ],
   "source": [
    "a = [ 'apple', 'banana', 'cherry', 'date', 'elderberry']\n",
    "b = len(a)\n",
    "i = [a[0],a[2],a[3]]\n",
    "\n",
    "\n",
    "print(b, i)"
   ]
  },
  {
   "cell_type": "markdown",
   "id": "4be35322",
   "metadata": {},
   "source": [
    "#  List"
   ]
  },
  {
   "cell_type": "markdown",
   "id": "15b4172f",
   "metadata": {},
   "source": [
    "### 1) Easy: Create a list containing the numbers 1 to 5 and then append the number 6 to it.\n",
    "Output: [1, 2, 3, 4, 5, 6]"
   ]
  },
  {
   "cell_type": "code",
   "execution_count": 64,
   "id": "6eb88427",
   "metadata": {},
   "outputs": [
    {
     "name": "stdout",
     "output_type": "stream",
     "text": [
      "[1, 2, 3, 4, 5]\n"
     ]
    }
   ],
   "source": [
    "x = []\n",
    "i =1\n",
    "while i < 6:\n",
    "    x.append(i)\n",
    "    i+=1\n",
    "print(x)"
   ]
  },
  {
   "cell_type": "code",
   "execution_count": 65,
   "id": "5a17a477",
   "metadata": {},
   "outputs": [
    {
     "name": "stdout",
     "output_type": "stream",
     "text": [
      "[1, 2, 3, 4, 5, 6]\n"
     ]
    }
   ],
   "source": [
    "i = 6\n",
    "x.append(i)\n",
    "print(x)"
   ]
  },
  {
   "cell_type": "markdown",
   "id": "d5463997",
   "metadata": {},
   "source": [
    "### 2) Medium: Given two lists, merge them into a single list without duplicates.\n",
    "Input:\n",
    "List 1: [1, 2, 3, 4]\n",
    "List 2: [3, 4, 5, 6]\n",
    "Output: [1, 2, 3, 4, 5, 6]"
   ]
  },
  {
   "cell_type": "code",
   "execution_count": 74,
   "id": "811b7419",
   "metadata": {},
   "outputs": [
    {
     "name": "stdout",
     "output_type": "stream",
     "text": [
      "[1, 2, 3, 4, 5, 6]\n"
     ]
    }
   ],
   "source": [
    "L1 = [1, 2, 3, 4]\n",
    "L2 = [3, 4, 5, 6]\n",
    "x = set(L1+L2)\n",
    "print(list(x))"
   ]
  },
  {
   "cell_type": "markdown",
   "id": "f51536ae",
   "metadata": {},
   "source": [
    "***************************"
   ]
  },
  {
   "cell_type": "markdown",
   "id": "ded3d77d",
   "metadata": {},
   "source": [
    "# Map"
   ]
  },
  {
   "cell_type": "markdown",
   "id": "3be27676",
   "metadata": {},
   "source": [
    "###  1) Easy: Use the map function to double each element in a list.\n",
    "Input: [1, 2, 3, 4, 5]\n",
    "Output: [2, 4, 6, 8, 10]"
   ]
  },
  {
   "cell_type": "code",
   "execution_count": 3,
   "id": "556d1298",
   "metadata": {},
   "outputs": [
    {
     "name": "stdout",
     "output_type": "stream",
     "text": [
      "[2, 4, 6, 8, 10]\n"
     ]
    }
   ],
   "source": [
    "def addition(n):\n",
    "\treturn n + n\n",
    "\n",
    "numbers = (1, 2, 3, 4, 5)\n",
    "result = map(addition, numbers)\n",
    "print(list(result))\n"
   ]
  },
  {
   "cell_type": "markdown",
   "id": "cd4f8573",
   "metadata": {},
   "source": [
    "### 2)Medium: Use the map function to convert a list of strings to uppercase.\n",
    "Input: ['apple', 'banana', 'cherry']\n",
    "Output: ['APPLE', 'BANANA', 'CHERRY']"
   ]
  },
  {
   "cell_type": "code",
   "execution_count": 7,
   "id": "4fe8647e",
   "metadata": {},
   "outputs": [
    {
     "name": "stdout",
     "output_type": "stream",
     "text": [
      "['APPLE', 'BANANA', 'CHERRY']\n"
     ]
    }
   ],
   "source": [
    "out = map(lambda x:x.upper(), ['apple', 'banana', 'cherry'])\n",
    "\n",
    "\n",
    "output = list(out)\n",
    "\n",
    "\n",
    "print(output)\n"
   ]
  },
  {
   "cell_type": "markdown",
   "id": "d8aabff7",
   "metadata": {},
   "source": [
    "# Filter"
   ]
  },
  {
   "cell_type": "markdown",
   "id": "2526e165",
   "metadata": {},
   "source": [
    "### 1) Easy: Use the filter function to get all even numbers from a list.\n",
    "Input: [1, 2, 3, 4, 5, 6]\n",
    "Output: [2, 4, 6]\n"
   ]
  },
  {
   "cell_type": "code",
   "execution_count": 13,
   "id": "b3482deb",
   "metadata": {},
   "outputs": [
    {
     "name": "stdout",
     "output_type": "stream",
     "text": [
      "[2, 4, 6]\n"
     ]
    }
   ],
   "source": [
    "list = [1, 2, 3, 4, 5,6]\n",
    "\n",
    "out = []\n",
    "\n",
    "for num in list:\n",
    "    if num % 2 == 0:\n",
    "        out.append(num)\n",
    "\n",
    "print(out)\n"
   ]
  },
  {
   "cell_type": "markdown",
   "id": "2f3a7227",
   "metadata": {},
   "source": [
    "### 2) Medium: Use the filter function to get all words from a list that start with the letter 'b'.\n",
    "Input: ['apple', 'banana', 'cherry', 'blueberry', 'date']\n",
    "Output: ['banana', 'blueberry']"
   ]
  },
  {
   "cell_type": "code",
   "execution_count": 1,
   "id": "cb47ba1a",
   "metadata": {},
   "outputs": [
    {
     "name": "stdout",
     "output_type": "stream",
     "text": [
      "['banana', 'blueberry']\n"
     ]
    }
   ],
   "source": [
    "input_list = ['apple', 'banana', 'cherry', 'blueberry', 'date']\n",
    "output_list = list(filter(lambda word: word.startswith('b'), input_list))\n",
    "print(output_list)"
   ]
  },
  {
   "cell_type": "markdown",
   "id": "71433389",
   "metadata": {},
   "source": [
    "# Functions"
   ]
  },
  {
   "cell_type": "markdown",
   "id": "df27f60d",
   "metadata": {},
   "source": [
    "### 1) Easy: Write a function called add that takes two numbers as input and returns their sum.\n",
    "Input: add(3, 4)\n",
    "Output: 7"
   ]
  },
  {
   "cell_type": "code",
   "execution_count": 4,
   "id": "5702e818",
   "metadata": {},
   "outputs": [
    {
     "name": "stdout",
     "output_type": "stream",
     "text": [
      "7\n"
     ]
    }
   ],
   "source": [
    "def foo(a,b):\n",
    "    print(a+b)\n",
    "foo(3,4)\n",
    "    "
   ]
  },
  {
   "cell_type": "markdown",
   "id": "2299c797",
   "metadata": {},
   "source": [
    "### 2) Medium: Write a function called calculate_average that takes a list of numbers as input and returns the average (mean) of those numbers.\n",
    "Input: calculate_average([1, 2, 3, 4, 5])\n",
    "Output: 3.0"
   ]
  },
  {
   "cell_type": "code",
   "execution_count": 8,
   "id": "03bd4224",
   "metadata": {},
   "outputs": [
    {
     "name": "stdout",
     "output_type": "stream",
     "text": [
      "Average of the list = 3.0\n"
     ]
    }
   ],
   "source": [
    "def Average(lst):\n",
    "    return sum(lst) / len(lst)\n",
    "\n",
    "lst = [1,2,3,4,5]\n",
    "average = Average(lst)\n",
    "\n",
    "print(\"Average of the list =\", round(average, 2))\n"
   ]
  }
 ],
 "metadata": {
  "kernelspec": {
   "display_name": "Python 3 (ipykernel)",
   "language": "python",
   "name": "python3"
  },
  "language_info": {
   "codemirror_mode": {
    "name": "ipython",
    "version": 3
   },
   "file_extension": ".py",
   "mimetype": "text/x-python",
   "name": "python",
   "nbconvert_exporter": "python",
   "pygments_lexer": "ipython3",
   "version": "3.11.4"
  }
 },
 "nbformat": 4,
 "nbformat_minor": 5
}
